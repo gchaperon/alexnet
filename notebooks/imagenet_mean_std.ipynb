{
 "cells": [
  {
   "cell_type": "markdown",
   "id": "4dfe60eb-ced0-4f8f-b4f1-edf3f459df7b",
   "metadata": {},
   "source": [
    "# Compute ImageNet mean and std\n",
    "\n",
    "This notebooks computes ImageNet's mean and std.\n",
    "\n",
    "Values are computed below, compare to what's commonly used here https://pytorch.org/hub/pytorch_vision_alexnet/\n",
    "\n",
    "mean = `[0.485, 0.456, 0.406]` and std = `[0.229, 0.224, 0.225]`\n",
    "\n",
    "Results are pretty close, so I'm just using the ones above."
   ]
  },
  {
   "cell_type": "code",
   "execution_count": 4,
   "id": "c0e4365b-8904-42d9-a64b-9403a6d2861a",
   "metadata": {},
   "outputs": [],
   "source": [
    "import alexnet.data as data\n",
    "import alexnet.transforms as transforms\n",
    "import tqdm\n",
    "import torch"
   ]
  },
  {
   "cell_type": "code",
   "execution_count": 5,
   "id": "37a2906b-4d0a-4e9a-98f5-a12003256a2b",
   "metadata": {},
   "outputs": [],
   "source": [
    "transform = transforms.Compose([transforms.Resize(256), transforms.ToTensor()])\n",
    "dataset = data.ImageNet(\"../data\", \"train\", transform)"
   ]
  },
  {
   "cell_type": "code",
   "execution_count": 6,
   "id": "e6465dbb-5f55-444d-a32e-2c072a5d56cb",
   "metadata": {
    "tags": []
   },
   "outputs": [
    {
     "name": "stderr",
     "output_type": "stream",
     "text": [
      "100%|██████████████████████████████████████████████████████████████████████| 1281167/1281167 [1:15:48<00:00, 281.67it/s]\n"
     ]
    }
   ],
   "source": [
    "total_sum = torch.zeros(3)\n",
    "total_pixels = 0\n",
    "for image, _ in tqdm.tqdm(dataset, ncols=120):\n",
    "    total_sum += image.sum(dim=(1, 2))\n",
    "    total_pixels += image.shape[1] * image.shape[2]"
   ]
  },
  {
   "cell_type": "code",
   "execution_count": 7,
   "id": "3abc2da0-9e8e-4d23-9a5a-bdcac7821d05",
   "metadata": {},
   "outputs": [
    {
     "name": "stdout",
     "output_type": "stream",
     "text": [
      "mean tensor([0.4801, 0.4565, 0.4070])\n"
     ]
    }
   ],
   "source": [
    "mean = total_sum / total_pixels\n",
    "print(\"mean\", mean)"
   ]
  },
  {
   "cell_type": "code",
   "execution_count": 8,
   "id": "0aa747a2-0018-4ceb-8700-3b2e2681b0c7",
   "metadata": {},
   "outputs": [
    {
     "name": "stderr",
     "output_type": "stream",
     "text": [
      "100%|██████████████████████████████████████████████████████████████████████| 1281167/1281167 [1:19:15<00:00, 269.41it/s]\n"
     ]
    }
   ],
   "source": [
    "total_sum = torch.zeros(3)\n",
    "total_pixels = 0\n",
    "for image, _ in tqdm.tqdm(dataset, ncols=120):\n",
    "    total_sum += torch.sum((image - mean[:, None, None])**2, dim=(1, 2))\n",
    "    total_pixels += image.shape[1] * image.shape[2]"
   ]
  },
  {
   "cell_type": "code",
   "execution_count": 9,
   "id": "8d6d759c-3a8e-4d32-8e1d-02f99cba83e6",
   "metadata": {},
   "outputs": [
    {
     "name": "stdout",
     "output_type": "stream",
     "text": [
      "std tensor([0.2774, 0.2700, 0.2838])\n"
     ]
    }
   ],
   "source": [
    "std = torch.sqrt(total_sum / total_pixels)\n",
    "print(\"std\", std)"
   ]
  }
 ],
 "metadata": {
  "kernelspec": {
   "display_name": "Python 3 (ipykernel)",
   "language": "python",
   "name": "python3"
  },
  "language_info": {
   "codemirror_mode": {
    "name": "ipython",
    "version": 3
   },
   "file_extension": ".py",
   "mimetype": "text/x-python",
   "name": "python",
   "nbconvert_exporter": "python",
   "pygments_lexer": "ipython3",
   "version": "3.9.12"
  }
 },
 "nbformat": 4,
 "nbformat_minor": 5
}
